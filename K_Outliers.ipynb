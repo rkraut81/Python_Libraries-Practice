{
 "cells": [
  {
   "cell_type": "markdown",
   "metadata": {},
   "source": [
    "# Using ZSCORE to detect outliers"
   ]
  },
  {
   "cell_type": "code",
   "execution_count": 1,
   "metadata": {},
   "outputs": [],
   "source": [
    "import numpy as np\n",
    "import matplotlib.pyplot as plt\n",
    "%matplotlib inline"
   ]
  },
  {
   "cell_type": "code",
   "execution_count": 22,
   "metadata": {},
   "outputs": [],
   "source": [
    "dataset= [11,10,12,14,12,15,14,13,15,12,14,17,102,19,107,101,10,13,12,14,12,108,12,11,14,13,15,10,15,12,10,14,13,15,10]\n"
   ]
  },
  {
   "cell_type": "code",
   "execution_count": 23,
   "metadata": {},
   "outputs": [],
   "source": [
    "outliers=[]\n",
    "\n",
    "def detect_outliers(data):\n",
    "    \n",
    "    threshold=3\n",
    "    mean=np.mean(data)\n",
    "    print (\"The mean of the data set is:\", mean)\n",
    "    std_deviation=np.std(data)\n",
    "    print (\"The std deviation of the data set is:\", std_deviation)\n",
    "    \n",
    "    for i in data:\n",
    "        z_score=(i-mean)/std_deviation\n",
    "        if (np.abs(z_score)>threshold):\n",
    "            outliers.append(i)\n",
    "        \n",
    "    \n",
    "    return outliers"
   ]
  },
  {
   "cell_type": "code",
   "execution_count": 25,
   "metadata": {},
   "outputs": [
    {
     "name": "stdout",
     "output_type": "stream",
     "text": [
      "The mean of the data set is: 23.457142857142856\n",
      "The std deviation of the data set is: 29.197204227355016\n"
     ]
    },
    {
     "data": {
      "text/plain": [
       "[]"
      ]
     },
     "execution_count": 25,
     "metadata": {},
     "output_type": "execute_result"
    }
   ],
   "source": [
    "outlier_detection=detect_outliers(dataset)\n",
    "outlier_detection"
   ]
  },
  {
   "cell_type": "code",
   "execution_count": 19,
   "metadata": {},
   "outputs": [
    {
     "data": {
      "image/png": "[encoded data removed]",
      "text/plain": [
       "<matplotlib.figure.Figure at 0x8a195f8>"
      ]
     },
     "metadata": {},
     "output_type": "display_data"
    }
   ],
   "source": [
    "dataset1= [11,10,12,14,12,15,14,13,15,12,14,17,102,19,107,101,10,13,12,14,12,108,12,11,14,13,15,10,15,12,10,14,13,15,10]\n",
    "\n",
    "plt.scatter(dataset1,dataset1,c='r')\n",
    "plt.xlabel('X-axis')\n",
    "plt.ylabel('data')\n",
    "plt.title('scatter plot')\n",
    "plt.savefig('scatter.png')"
   ]
  },
  {
   "cell_type": "code",
   "execution_count": 21,
   "metadata": {},
   "outputs": [
    {
     "data": {
      "image/png": "[encoded data removed]",
      "text/plain": [
       "<matplotlib.figure.Figure at 0x8b16b00>"
      ]
     },
     "metadata": {},
     "output_type": "display_data"
    }
   ],
   "source": [
    "plt.boxplot(dataset1,vert=True,patch_artist=True)\n",
    "plt.show()"
   ]
  },
  {
   "cell_type": "code",
   "execution_count": null,
   "metadata": {},
   "outputs": [],
   "source": []
  }
 ],
 "metadata": {
  "kernelspec": {
   "display_name": "Python 3",
   "language": "python",
   "name": "python3"
  },
  "language_info": {
   "codemirror_mode": {
    "name": "ipython",
    "version": 3
   },
   "file_extension": ".py",
   "mimetype": "text/x-python",
   "name": "python",
   "nbconvert_exporter": "python",
   "pygments_lexer": "ipython3",
   "version": "3.6.4"
  }
 },
 "nbformat": 4,
 "nbformat_minor": 2
}
