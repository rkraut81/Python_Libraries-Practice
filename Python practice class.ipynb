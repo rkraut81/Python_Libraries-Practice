{
 "cells": [
  {
   "cell_type": "code",
   "execution_count": 1,
   "metadata": {},
   "outputs": [
    {
     "name": "stdout",
     "output_type": "stream",
     "text": [
      "100\n"
     ]
    }
   ],
   "source": [
    "# INT DATA TYPE\n",
    "\n",
    "i=100\n",
    "print(i)"
   ]
  },
  {
   "cell_type": "code",
   "execution_count": 3,
   "metadata": {},
   "outputs": [
    {
     "data": {
      "text/plain": [
       "0.123"
      ]
     },
     "execution_count": 3,
     "metadata": {},
     "output_type": "execute_result"
    }
   ],
   "source": [
    "# using float data type\n",
    "\n",
    "f=0.123\n",
    "f"
   ]
  },
  {
   "cell_type": "code",
   "execution_count": 4,
   "metadata": {},
   "outputs": [
    {
     "data": {
      "text/plain": [
       "(2+3j)"
      ]
     },
     "execution_count": 4,
     "metadata": {},
     "output_type": "execute_result"
    }
   ],
   "source": [
    "#using complex data type\n",
    "\n",
    "a=2+3j\n",
    "a"
   ]
  },
  {
   "cell_type": "code",
   "execution_count": 6,
   "metadata": {},
   "outputs": [
    {
     "name": "stdout",
     "output_type": "stream",
     "text": [
      "96\n"
     ]
    }
   ],
   "source": [
    "#class work\n",
    "\n",
    "v1=6 * (7 + 9)\n",
    "print (v1)"
   ]
  },
  {
   "cell_type": "code",
   "execution_count": 7,
   "metadata": {},
   "outputs": [
    {
     "name": "stdout",
     "output_type": "stream",
     "text": [
      "51\n"
     ]
    }
   ],
   "source": [
    "v2= 6 * 7 + 9\n",
    "print (v2)"
   ]
  },
  {
   "cell_type": "code",
   "execution_count": 9,
   "metadata": {},
   "outputs": [
    {
     "data": {
      "text/plain": [
       "2.0"
      ]
     },
     "execution_count": 9,
     "metadata": {},
     "output_type": "execute_result"
    }
   ],
   "source": [
    "# convert an integer to a floating-point number\n",
    "\n",
    "i=2\n",
    "f=float(i)\n",
    "f"
   ]
  },
  {
   "cell_type": "code",
   "execution_count": 17,
   "metadata": {},
   "outputs": [
    {
     "name": "stdout",
     "output_type": "stream",
     "text": [
      "127\n",
      "2559\n"
     ]
    },
    {
     "data": {
      "text/plain": [
       "42"
      ]
     },
     "execution_count": 17,
     "metadata": {},
     "output_type": "execute_result"
    }
   ],
   "source": [
    "# convert an octal, hexadecimal, or binary string to a plain integer and vice-versa\n",
    "\n",
    "octal = 0o177\n",
    "i_octal=int(octal)\n",
    "print (i_octal)\n",
    "\n",
    "hexdec=0x9ff\n",
    "i_hd=int(hexdec)\n",
    "print (i_hd)\n",
    "\n",
    "bin=0b101010\n",
    "i_bin=int(bin)\n",
    "i_bin\n",
    "\n"
   ]
  },
  {
   "cell_type": "code",
   "execution_count": 19,
   "metadata": {},
   "outputs": [
    {
     "name": "stdout",
     "output_type": "stream",
     "text": [
      "12345.679\n"
     ]
    }
   ],
   "source": [
    "# truncate and round a floating-point number\n",
    "\n",
    "print (round(12345.67890,3))\n"
   ]
  },
  {
   "cell_type": "code",
   "execution_count": 76,
   "metadata": {},
   "outputs": [
    {
     "name": "stdout",
     "output_type": "stream",
     "text": [
      "['0 cupcake', '1 Donut', '2 Eclair', '3 Froyo', '4 Gingerbread', '5 Honeycomb', '6 Icecream sandwich', '7 Jelly Bean', '8 Kitkat', '9 Lollipop', '10 Marshmallow', '11 Nougat', '12 Oreo', '13 Pie']\n"
     ]
    }
   ],
   "source": [
    "#list preparation\n",
    "\n",
    "android_ver=['0 cupcake','1 Donut','2 Eclair','3 Froyo','4 Gingerbread','5 Honeycomb', '6 Icecream sandwich',\n",
    "             '7 Jelly Bean', '8 Kitkat','9 Lollipop','10 Marshmallow','11 Nougat','12 Oreo','13 Pie']\n",
    "print (android_ver)\n"
   ]
  },
  {
   "cell_type": "code",
   "execution_count": 77,
   "metadata": {},
   "outputs": [
    {
     "data": {
      "text/plain": [
       "14"
      ]
     },
     "execution_count": 77,
     "metadata": {},
     "output_type": "execute_result"
    }
   ],
   "source": [
    "# length of list \n",
    "0\n",
    "len(android_ver)"
   ]
  },
  {
   "cell_type": "code",
   "execution_count": 78,
   "metadata": {},
   "outputs": [
    {
     "name": "stdout",
     "output_type": "stream",
     "text": [
      "1 Donut\n"
     ]
    }
   ],
   "source": [
    "#indexing and slicing\n",
    "\n",
    "print (android_ver[1])\n"
   ]
  },
  {
   "cell_type": "code",
   "execution_count": 15,
   "metadata": {},
   "outputs": [
    {
     "data": {
      "text/plain": [
       "'13 Pie'"
      ]
     },
     "execution_count": 15,
     "metadata": {},
     "output_type": "execute_result"
    }
   ],
   "source": [
    "android_ver[-1]"
   ]
  },
  {
   "cell_type": "code",
   "execution_count": 16,
   "metadata": {},
   "outputs": [
    {
     "data": {
      "text/plain": [
       "['0 cupcake', '1 Donut', '2 Eclair', '3 Froyo', '4 Gingerbread']"
      ]
     },
     "execution_count": 16,
     "metadata": {},
     "output_type": "execute_result"
    }
   ],
   "source": [
    "android_ver[0:5]"
   ]
  },
  {
   "cell_type": "code",
   "execution_count": 17,
   "metadata": {},
   "outputs": [
    {
     "data": {
      "text/plain": [
       "['1 Donut', '4 Gingerbread', '7 Jelly Bean']"
      ]
     },
     "execution_count": 17,
     "metadata": {},
     "output_type": "execute_result"
    }
   ],
   "source": [
    "android_ver[1:8:3]"
   ]
  },
  {
   "cell_type": "code",
   "execution_count": 19,
   "metadata": {},
   "outputs": [
    {
     "data": {
      "text/plain": [
       "['0 cupcake',\n",
       " '1 Donut',\n",
       " '2 Eclair',\n",
       " '3 Froyo',\n",
       " '4 Gingerbread',\n",
       " '5 Honeycomb',\n",
       " '6 Icecream sandwich',\n",
       " '7 Jelly Bean',\n",
       " '8 Kitkat',\n",
       " '9 Lollipop',\n",
       " '10 Marshmallow',\n",
       " '11 Nougat',\n",
       " '12 Oreo',\n",
       " '13 Pie',\n",
       " '14v',\n",
       " '15v',\n",
       " '14 v',\n",
       " '15 v']"
      ]
     },
     "execution_count": 19,
     "metadata": {},
     "output_type": "execute_result"
    }
   ],
   "source": [
    "android_ver.extend(['14 v','15 v'])\n",
    "android_ver"
   ]
  },
  {
   "cell_type": "code",
   "execution_count": 20,
   "metadata": {},
   "outputs": [
    {
     "data": {
      "text/plain": [
       "['0 cupcake',\n",
       " '1 Donut',\n",
       " '2 Eclair',\n",
       " '3 Froyo',\n",
       " '4 Gingerbread',\n",
       " '5 Honeycomb',\n",
       " '6 Icecream sandwich']"
      ]
     },
     "execution_count": 20,
     "metadata": {},
     "output_type": "execute_result"
    }
   ],
   "source": [
    "android_ver[:7]\n",
    "\n"
   ]
  },
  {
   "cell_type": "code",
   "execution_count": 21,
   "metadata": {},
   "outputs": [
    {
     "data": {
      "text/plain": [
       "['0 cupcake',\n",
       " '1 Donut',\n",
       " '2 Eclair',\n",
       " '3 Froyo',\n",
       " '4 Gingerbread',\n",
       " '5 Honeycomb',\n",
       " '6 Icecream sandwich',\n",
       " '7 Jelly Bean',\n",
       " '8 Kitkat',\n",
       " '9 Lollipop',\n",
       " '10 Marshmallow',\n",
       " '11 Nougat',\n",
       " '12 Oreo',\n",
       " '13 Pie',\n",
       " '14v',\n",
       " '15v',\n",
       " '14 v',\n",
       " '15 v',\n",
       " '16 Sasmita']"
      ]
     },
     "execution_count": 21,
     "metadata": {},
     "output_type": "execute_result"
    }
   ],
   "source": [
    "android_ver.append('16 Sasmita')\n",
    "android_ver"
   ]
  },
  {
   "cell_type": "code",
   "execution_count": 25,
   "metadata": {},
   "outputs": [
    {
     "data": {
      "text/plain": [
       "['0 cupcake',\n",
       " '1 Donut',\n",
       " '2 Eclair',\n",
       " '3 Froyo',\n",
       " '4 Gingerbread',\n",
       " '5 Honeycomb',\n",
       " '6 Icecream sandwich',\n",
       " '7 Jelly Bean',\n",
       " '8 Kitkat',\n",
       " '9 Lollipop',\n",
       " '10 Marshmallow',\n",
       " '11 Nougat',\n",
       " '12 Oreo',\n",
       " '13 Pie',\n",
       " '14v',\n",
       " '15v',\n",
       " '14 v',\n",
       " '15 v',\n",
       " '16 Sasmita',\n",
       " '17 Sash',\n",
       " '18 Patra']"
      ]
     },
     "execution_count": 25,
     "metadata": {},
     "output_type": "execute_result"
    }
   ],
   "source": [
    "android_ver.extend(['17 Sash' ,'18 Patra'])\n",
    "android_ver"
   ]
  },
  {
   "cell_type": "code",
   "execution_count": 26,
   "metadata": {},
   "outputs": [
    {
     "data": {
      "text/plain": [
       "['0 cupcake',\n",
       " '1 Donut',\n",
       " '2 Eclair',\n",
       " '3 Froyo',\n",
       " '4 Gingerbread',\n",
       " '5 Honeycomb',\n",
       " '6 Icecream sandwich',\n",
       " '7 Jelly Bean',\n",
       " '8 Kitkat',\n",
       " '9 Lollipop',\n",
       " '10 Marshmallow',\n",
       " '11 Nougat',\n",
       " '12 Oreo',\n",
       " '13 Pie',\n",
       " '14v',\n",
       " '15v',\n",
       " '14 v',\n",
       " '15 v',\n",
       " '16 Sasmita',\n",
       " '17 Sash',\n",
       " '18 Patra',\n",
       " ['19 Pinky', '20 Patra']]"
      ]
     },
     "execution_count": 26,
     "metadata": {},
     "output_type": "execute_result"
    }
   ],
   "source": [
    "android_ver.append(['19 Pinky' ,'20 Patra'])\n",
    "android_ver"
   ]
  },
  {
   "cell_type": "code",
   "execution_count": 31,
   "metadata": {},
   "outputs": [
    {
     "data": {
      "text/plain": [
       "['0 cupcake',\n",
       " '1 Donut',\n",
       " '10 Marshmallow',\n",
       " '11 Nougat',\n",
       " '12 Oreo',\n",
       " '13 Pie',\n",
       " '14 v',\n",
       " '14v',\n",
       " '15 v',\n",
       " '15v',\n",
       " '16 Sasmita',\n",
       " '17 Sash',\n",
       " '18 Patra',\n",
       " '2 Eclair',\n",
       " '3 Froyo',\n",
       " '4 Gingerbread',\n",
       " '5 Honeycomb',\n",
       " '6 Icecream sandwich',\n",
       " '7 Jelly Bean',\n",
       " '8 Kitkat',\n",
       " '9 Lollipop',\n",
       " ['19 Pinky', '20 Patra']]"
      ]
     },
     "execution_count": 31,
     "metadata": {},
     "output_type": "execute_result"
    }
   ],
   "source": [
    "\n",
    "android_ver"
   ]
  },
  {
   "cell_type": "code",
   "execution_count": 40,
   "metadata": {},
   "outputs": [
    {
     "data": {
      "text/plain": [
       "['0 cupcake',\n",
       " '1 Donut',\n",
       " '10 Marshmallow',\n",
       " '11 Nougat',\n",
       " '12 Oreo',\n",
       " '13 Pie',\n",
       " '14 v',\n",
       " '15 v',\n",
       " '2 Eclair',\n",
       " '3 Froyo',\n",
       " '4 Gingerbread',\n",
       " '5 Honeycomb',\n",
       " '6 Icecream sandwich',\n",
       " '7 Jelly Bean',\n",
       " '8 Kitkat']"
      ]
     },
     "execution_count": 40,
     "metadata": {},
     "output_type": "execute_result"
    }
   ],
   "source": [
    "\n",
    "android_ver"
   ]
  },
  {
   "cell_type": "code",
   "execution_count": 41,
   "metadata": {},
   "outputs": [
    {
     "data": {
      "text/plain": [
       "[2, 4, 6, 8]"
      ]
     },
     "execution_count": 41,
     "metadata": {},
     "output_type": "execute_result"
    }
   ],
   "source": [
    "# LIST COMPREHENSION\n",
    "\n",
    "list_a=[1,2,3,4]\n",
    "new_list1= [a*2 for a in list_a]\n",
    "new_list1"
   ]
  },
  {
   "cell_type": "code",
   "execution_count": 42,
   "metadata": {},
   "outputs": [
    {
     "data": {
      "text/plain": [
       "[1.0, 1.4142135623730951, 1.7320508075688772, 2.0]"
      ]
     },
     "execution_count": 42,
     "metadata": {},
     "output_type": "execute_result"
    }
   ],
   "source": [
    "import math\n",
    "new_list2=[math.sqrt(a) for a in list_a]\n",
    "new_list2"
   ]
  },
  {
   "cell_type": "code",
   "execution_count": 43,
   "metadata": {},
   "outputs": [
    {
     "data": {
      "text/plain": [
       "[2, 4]"
      ]
     },
     "execution_count": 43,
     "metadata": {},
     "output_type": "execute_result"
    }
   ],
   "source": [
    "even= [e for e in list_a if e%2==0]\n",
    "even"
   ]
  },
  {
   "cell_type": "code",
   "execution_count": 44,
   "metadata": {},
   "outputs": [
    {
     "data": {
      "text/plain": [
       "[1, 3]"
      ]
     },
     "execution_count": 44,
     "metadata": {},
     "output_type": "execute_result"
    }
   ],
   "source": [
    "odd=[o for o in list_a if o%2!=0]\n",
    "odd"
   ]
  },
  {
   "cell_type": "code",
   "execution_count": 47,
   "metadata": {},
   "outputs": [
    {
     "data": {
      "text/plain": [
       "[1.4142135623730951, 2.0]"
      ]
     },
     "execution_count": 47,
     "metadata": {},
     "output_type": "execute_result"
    }
   ],
   "source": [
    "sqrt_even= [math.sqrt(se) for se in even ]\n",
    "sqrt_even"
   ]
  },
  {
   "cell_type": "code",
   "execution_count": 48,
   "metadata": {},
   "outputs": [
    {
     "data": {
      "text/plain": [
       "[1.0, 1.7320508075688772]"
      ]
     },
     "execution_count": 48,
     "metadata": {},
     "output_type": "execute_result"
    }
   ],
   "source": [
    "sqrt_odd=[math.sqrt(so) for so in odd]\n",
    "sqrt_odd"
   ]
  },
  {
   "cell_type": "code",
   "execution_count": 79,
   "metadata": {},
   "outputs": [
    {
     "data": {
      "text/plain": [
       "['0 cupcake',\n",
       " '1 Donut',\n",
       " '2 Eclair',\n",
       " '3 Froyo',\n",
       " '4 Gingerbread',\n",
       " '5 Honeycomb',\n",
       " '6 Icecream sandwich',\n",
       " '7 Jelly Bean',\n",
       " '8 Kitkat',\n",
       " '9 Lollipop',\n",
       " '10 Marshmallow',\n",
       " '11 Nougat',\n",
       " '12 Oreo',\n",
       " '13 Pie']"
      ]
     },
     "execution_count": 79,
     "metadata": {},
     "output_type": "execute_result"
    }
   ],
   "source": [
    "android_ver"
   ]
  },
  {
   "cell_type": "code",
   "execution_count": 65,
   "metadata": {},
   "outputs": [
    {
     "data": {
      "text/plain": [
       "'sash'"
      ]
     },
     "execution_count": 65,
     "metadata": {},
     "output_type": "execute_result"
    }
   ],
   "source": [
    "android_ver.pop()"
   ]
  },
  {
   "cell_type": "code",
   "execution_count": 67,
   "metadata": {},
   "outputs": [
    {
     "data": {
      "text/plain": [
       "14"
      ]
     },
     "execution_count": 67,
     "metadata": {},
     "output_type": "execute_result"
    }
   ],
   "source": [
    "android_ver.index('8 Kitkat')"
   ]
  },
  {
   "cell_type": "code",
   "execution_count": 74,
   "metadata": {},
   "outputs": [],
   "source": [
    "del android_ver[0:]"
   ]
  },
  {
   "cell_type": "code",
   "execution_count": 81,
   "metadata": {},
   "outputs": [
    {
     "data": {
      "text/plain": [
       "{'Perky': 'Pinky', 'Piggy': 'Chops', 'Sash': 'Patra'}"
      ]
     },
     "execution_count": 81,
     "metadata": {},
     "output_type": "execute_result"
    }
   ],
   "source": [
    "# DICTIONARIES\n",
    "\n",
    "sample_dict={'Sash':'Patra','Piggy':'Chops','Perky':'Pinky'}\n",
    "sample_dict"
   ]
  },
  {
   "cell_type": "code",
   "execution_count": 82,
   "metadata": {},
   "outputs": [
    {
     "name": "stdout",
     "output_type": "stream",
     "text": [
      "Pinky\n"
     ]
    }
   ],
   "source": [
    "print(sample_dict['Perky'])"
   ]
  },
  {
   "cell_type": "code",
   "execution_count": 83,
   "metadata": {},
   "outputs": [
    {
     "name": "stdout",
     "output_type": "stream",
     "text": [
      "Pinky\n"
     ]
    }
   ],
   "source": [
    "print(sample_dict.get('Perky'))"
   ]
  },
  {
   "cell_type": "code",
   "execution_count": 84,
   "metadata": {},
   "outputs": [
    {
     "data": {
      "text/plain": [
       "dict_keys(['Sash', 'Piggy', 'Perky'])"
      ]
     },
     "execution_count": 84,
     "metadata": {},
     "output_type": "execute_result"
    }
   ],
   "source": [
    "sample_dict.keys()"
   ]
  },
  {
   "cell_type": "code",
   "execution_count": 85,
   "metadata": {},
   "outputs": [
    {
     "data": {
      "text/plain": [
       "dict_values(['Patra', 'Chops', 'Pinky'])"
      ]
     },
     "execution_count": 85,
     "metadata": {},
     "output_type": "execute_result"
    }
   ],
   "source": [
    "sample_dict.values()"
   ]
  },
  {
   "cell_type": "code",
   "execution_count": 86,
   "metadata": {},
   "outputs": [
    {
     "data": {
      "text/plain": [
       "dict_items([('Sash', 'Patra'), ('Piggy', 'Chops'), ('Perky', 'Pinky')])"
      ]
     },
     "execution_count": 86,
     "metadata": {},
     "output_type": "execute_result"
    }
   ],
   "source": [
    "sample_dict.items()"
   ]
  },
  {
   "cell_type": "code",
   "execution_count": 87,
   "metadata": {},
   "outputs": [
    {
     "name": "stdout",
     "output_type": "stream",
     "text": [
      "('Sash', 'Patra')\n",
      "('Piggy', 'Chops')\n",
      "('Perky', 'Pinky')\n"
     ]
    }
   ],
   "source": [
    "for item in sample_dict.items():\n",
    "    print(item)"
   ]
  },
  {
   "cell_type": "code",
   "execution_count": 88,
   "metadata": {},
   "outputs": [
    {
     "name": "stdout",
     "output_type": "stream",
     "text": [
      "Patra\n",
      "Chops\n",
      "Pinky\n"
     ]
    }
   ],
   "source": [
    "for i in sample_dict.keys():\n",
    "    print(sample_dict[i])"
   ]
  },
  {
   "cell_type": "code",
   "execution_count": 89,
   "metadata": {},
   "outputs": [
    {
     "name": "stdout",
     "output_type": "stream",
     "text": [
      "Sash\n",
      "Piggy\n",
      "Perky\n"
     ]
    }
   ],
   "source": [
    "for key in sample_dict.keys():\n",
    "    print(key)"
   ]
  },
  {
   "cell_type": "code",
   "execution_count": 92,
   "metadata": {},
   "outputs": [
    {
     "data": {
      "text/plain": [
       "dict_items([('Sash', 'Patra'), ('Piggy', 'Chops'), ('Perky', 'grapes')])"
      ]
     },
     "execution_count": 92,
     "metadata": {},
     "output_type": "execute_result"
    }
   ],
   "source": [
    "sample_dict['Perky']='grapes'\n",
    "sample_dict.items()"
   ]
  },
  {
   "cell_type": "code",
   "execution_count": 93,
   "metadata": {},
   "outputs": [
    {
     "name": "stdout",
     "output_type": "stream",
     "text": [
      "Patra\n",
      "Chops\n",
      "grapes\n"
     ]
    }
   ],
   "source": [
    "#By iterating over values not on items, print keys of a dictionary\n",
    "\n",
    "for keys in sample_dict.values():\n",
    "    print(values)"
   ]
  },
  {
   "cell_type": "code",
   "execution_count": null,
   "metadata": {},
   "outputs": [],
   "source": []
  }
 ],
 "metadata": {
  "kernelspec": {
   "display_name": "Python 3",
   "language": "python",
   "name": "python3"
  },
  "language_info": {
   "codemirror_mode": {
    "name": "ipython",
    "version": 3
   },
   "file_extension": ".py",
   "mimetype": "text/x-python",
   "name": "python",
   "nbconvert_exporter": "python",
   "pygments_lexer": "ipython3",
   "version": "3.6.4"
  }
 },
 "nbformat": 4,
 "nbformat_minor": 2
}
